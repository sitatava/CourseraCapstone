{
 "cells": [
  {
   "cell_type": "markdown",
   "metadata": {},
   "source": [
    "## This notebook is being prepared for Capstone Project - The Battle of Neighborhoods (Week 1) in Coursera Data Science Professional Certification course by IBM"
   ]
  },
  {
   "cell_type": "markdown",
   "metadata": {},
   "source": [
    "# Introduction:\n",
    "\n",
    "Bangalore is the capital for Karnataka state. With a population of over 15 million (as of January 2016), Bangalore is the third largest city in India. As the Govt. of India and Govt. of Karnataka encourages young entrepreneurs  with many schemes such as Make In India, the young entrepreneurs may stuck with basic questions of what business to start, and in which location to start to keep their avenues optimal and boost their ability to sustain their business and to take further level in a reasonable timeframe.\n"
   ]
  },
  {
   "cell_type": "markdown",
   "metadata": {},
   "source": [
    "# Problem Description: \n",
    "If any young entrepreneurs’ choses Bangalore based locations e.g. like Kammanahali or Whitefiled as their destination to start a business, it will trigger few pre-work questions to be answered, such as:\n",
    "1.\tWhich business should I pick, and why?\n",
    "2.\tWhich location best suites?\n",
    "3.\tIs there enough population to maximize the opportunities?\n",
    "4.\tFrom the recommended locations, what percentage of population falls into the spending range?  Such as average income of the location population., etc.\n",
    "\n",
    "To address such question, XYZ Company’s manager decides to allocate this project to me not just to find out solutions to the questions but also build a system that can help in recommending new places based on their rankings compared to the previously visited by me.\n",
    "\n",
    "Precise expectations from this recommender system is to get answer for the questions.  It is sighted to show:\n",
    "\n",
    "1. What types of venues are present / business in the given area?\n",
    "2. Find similar nature of business present in other neighboring locations based on a preference?\n",
    "3. How do different business rank with respect to the preferences?\n",
    "\n",
    "# Target Audience: \n",
    "Target audience for this project are those who interested in starting a new business of their interest, specific to Bangalore location, and looking for a recommender system that help understanding the current dynamics of the business that they are about to start.\n",
    "\n",
    "# Success rate: \n",
    "Success rate would be unpredictable, when there is no proper evaluation of various parameters such as location, size of population, accessibility to the place where business get started, average income of the public in that specific area, or those who commute around the place.  \n",
    "\n",
    "This recommender system is expected to fill such gaps, and scientifically explore, evaluate and recommend optimal place, and nature of business that suites to the place based on the above-mentioned parameters, and rank them how such business gets performed in similar neighborhoods."
   ]
  }
 ],
 "metadata": {
  "kernelspec": {
   "display_name": "Python 3",
   "language": "python",
   "name": "python3"
  },
  "language_info": {
   "codemirror_mode": {
    "name": "ipython",
    "version": 3
   },
   "file_extension": ".py",
   "mimetype": "text/x-python",
   "name": "python",
   "nbconvert_exporter": "python",
   "pygments_lexer": "ipython3",
   "version": "3.6.7"
  }
 },
 "nbformat": 4,
 "nbformat_minor": 4
}
