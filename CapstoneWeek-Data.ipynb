{
 "cells": [
  {
   "cell_type": "markdown",
   "metadata": {},
   "source": [
    "## This notebook is being prepared for Capstone Project - The Battle of Neighborhoods (Week 1) in Coursera Data Science Professional Certification course by IBM"
   ]
  },
  {
   "cell_type": "markdown",
   "metadata": {},
   "source": [
    "# Data collection:\n",
    "\n",
    "1. Collecting geographical coordinates is not difficult but after googling for more than 2 days, it was not available on open source data websites such as Wikipedia, India gov website, census report websites etc. So, I decided to use Google maps API to fetch latitude and longitude but google API has limited number of calls that I could make with my free account. So, it would take around 15 - 20 days to fetch location of all the neighborhoods in Bangalore.\n",
    "\n",
    "Initially I scrapped list of neighbors’ using beautifulSoup4 from [wikipedia] (https://en.wikipedia.org/wiki/List_of_neighbourhoods_in_Bangalore). The table headings becoming the boroughs and data becoming the neighborhoods. Bangalore has 8 boroughs and 64 neighborhoods. So i manually googled each neighborhood to find its corresponding latitude and longitude. After doing so, I produced the following data frame.  \n",
    "\n",
    "<img src = \"https://github.com/sitatava/CourseraCapstone/blob/master/Capstone-W4-Img1.jpg\" width = 400>\n",
    "\n",
    "<h1 align=center><font size = 5>Learning FourSquare API with Python</font></h1>\n",
    "\n",
    " \n",
    "2. Population by neighborhood is again easy to find out given that it’s readily available. But in case of Bangalore, it is again not the case. i was able to find population data for few cities. [Here is the link] (https://indikosh.com/dist/655489/bangalore). Rest other neighborhood population is assumed and may be inaccurate but since this is a demonstrating project, the main idea to get the working model. The data frame for Bangalore neighborhood population looks like:\n",
    " \n",
    " <img src = \"https://github.com/sitatava/CourseraCapstone/blob/master/Capstone-W4-Img2.jpg\" width = 400>\n",
    " \n",
    "4.\tIncome by neighborhood is again easy to find out given that it’s readily available. But in case of Bangalore, it is again not the case. I was able to find Income data for main city. [Here is the link] (https://en.wikipedia.org/wiki/List_of_Indian_cities_by_GDP_per_capita). \n",
    "\n",
    "5.\tNeighborhood Income is assumed and may be inaccurate but since this is a demonstrating project, the main idea to get the working model. The data frame for Bangalore neighborhood population looks like:\n",
    "\n",
    "<img src = \"https://github.com/sitatava/CourseraCapstone/blob/master/Capstone-W4-Img3.jpg\" width = 400>\n"
   ]
  },
  {
   "cell_type": "code",
   "execution_count": null,
   "metadata": {},
   "outputs": [],
   "source": []
  }
 ],
 "metadata": {
  "kernelspec": {
   "display_name": "Python 3",
   "language": "python",
   "name": "python3"
  },
  "language_info": {
   "codemirror_mode": {
    "name": "ipython",
    "version": 3
   },
   "file_extension": ".py",
   "mimetype": "text/x-python",
   "name": "python",
   "nbconvert_exporter": "python",
   "pygments_lexer": "ipython3",
   "version": "3.6.7"
  }
 },
 "nbformat": 4,
 "nbformat_minor": 4
}
